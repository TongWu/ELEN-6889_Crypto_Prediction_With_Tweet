{
  "cells": [
    {
      "cell_type": "markdown",
      "metadata": {
        "id": "mPv7Web_lwMG"
      },
      "source": [
        "# **Tutorial\\#1: Twitter API Config**"
      ]
    },
    {
      "cell_type": "code",
      "execution_count": null,
      "metadata": {
        "id": "xVjT--AWl2ni"
      },
      "outputs": [],
      "source": [
        "# API Key:        MM2gPHXgHgpQ3VjVTuxy4JvnP\n",
        "# API Secret:     EZEgJrpVeLLdmDIjXmvS0WAfCDetLZN8yfIxOJURiNe0NHsZDm\n",
        "\n",
        "# Bearer Token:   AAAAAAAAAAAAAAAAAAAAAG4bgAEAAAAAxuXvGZfK4zpNu4ATzIDN0aZxKn8%3D4cmJ6ISkOlEGpesm7J6MUXfC21Wa5oiiSIR3niHGrizQr4Bz4m\n",
        "\n",
        "# Access Token:   1538924473755537408-qHOakmkKhlENJVERSpse8Asm1rQTCt\n",
        "# Access Secret:  OLY3TZsCXittGUaveX3aEMogd2c6A5Le0bxBbpTq0SKJ8"
      ]
    },
    {
      "cell_type": "markdown",
      "metadata": {
        "id": "hDz0sTHKpMJP"
      },
      "source": [
        "# **Tutorial\\#2: Tweepy Walkthrough**"
      ]
    },
    {
      "cell_type": "markdown",
      "metadata": {
        "id": "rUdfYMvNR4Lk"
      },
      "source": [
        "## Set up environment"
      ]
    },
    {
      "cell_type": "code",
      "execution_count": null,
      "metadata": {
        "colab": {
          "base_uri": "https://localhost:8080/"
        },
        "id": "7Ur3YFMkWdPv",
        "outputId": "428da027-ab95-4861-ebe0-677003fb7ed9"
      },
      "outputs": [],
      "source": [
        "!pip install tweepy==4.9.0"
      ]
    },
    {
      "cell_type": "code",
      "execution_count": null,
      "metadata": {
        "id": "6qYCpSPgReOr"
      },
      "outputs": [],
      "source": [
        "import tweepy\n",
        "import config\n",
        "import pandas as pd\n",
        "\n",
        "print(config.API_KEY)"
      ]
    },
    {
      "cell_type": "markdown",
      "metadata": {
        "id": "LwuM_oLmRspH"
      },
      "source": [
        "## Tweepy - API Class (Twitter API v1.1)"
      ]
    },
    {
      "cell_type": "markdown",
      "metadata": {
        "id": "E4-arYLAiRXh"
      },
      "source": [
        "### Authentication"
      ]
    },
    {
      "cell_type": "code",
      "execution_count": null,
      "metadata": {
        "id": "jOf9n-6iJje8"
      },
      "outputs": [],
      "source": [
        "# Authenticate with Twitter OAuth 1.0a User Context\n",
        "auth = tweepy.OAuth1UserHandler(\n",
        "   config.API_KEY,                                           # API / Consumer Key here\n",
        "   config.API_SECRET,                  # API / Consumer Secret here\n",
        "   config.ACCESS_TOKEN,                  # Access Token here\n",
        "   config.ACCESS_TOKEN_SECRET                        # Access Token Secret here\n",
        ")\n",
        "api = tweepy.API(auth, wait_on_rate_limit=True)"
      ]
    },
    {
      "cell_type": "code",
      "execution_count": null,
      "metadata": {},
      "outputs": [],
      "source": [
        "query = 'cryptocurrency OR crypto'\n",
        "query_1 = '#bitcoin -filter:retweets'\n",
        "query_2 = 'Ethereum OR Ether'\n",
        "\n",
        "tweets = tweepy.Cursor(api.search_tweets, q='query', count=100).items(2000)\n",
        "all_tweets = [[tweet.created_at,tweet.text] for tweet in tweets]   "
      ]
    },
    {
      "cell_type": "code",
      "execution_count": null,
      "metadata": {},
      "outputs": [],
      "source": [
        "df = pd.DataFrame(all_tweets, columns=['date','tweet'])\n",
        "df.tail(1000)"
      ]
    },
    {
      "cell_type": "markdown",
      "metadata": {
        "id": "4HAbsbvQiaxF"
      },
      "source": [
        "### Make a tweet\n"
      ]
    },
    {
      "cell_type": "code",
      "execution_count": null,
      "metadata": {
        "id": "y_lfZZC6J1Ak"
      },
      "outputs": [],
      "source": [
        "tweet = api.update_status(\"Hey there!! Courtesy: Tweepy\")"
      ]
    },
    {
      "cell_type": "markdown",
      "metadata": {
        "id": "IKjTKkYqirCO"
      },
      "source": [
        "### Get tweets from home timeline"
      ]
    },
    {
      "cell_type": "code",
      "execution_count": null,
      "metadata": {
        "colab": {
          "base_uri": "https://localhost:8080/"
        },
        "id": "gf83fNmbLm7O",
        "outputId": "0fa5b639-95a9-41e8-f3ef-46dd5312cec5"
      },
      "outputs": [],
      "source": [
        "# Get recent tweets from your home timeline\n",
        "tweets = api.home_timeline(count=5)\n",
        "for tweet in tweets:\n",
        "    print(tweet.text,'\\n')"
      ]
    },
    {
      "cell_type": "markdown",
      "metadata": {
        "id": "K9jsvMAsi01T"
      },
      "source": [
        "### Get your own tweets"
      ]
    },
    {
      "cell_type": "code",
      "execution_count": null,
      "metadata": {
        "colab": {
          "base_uri": "https://localhost:8080/"
        },
        "id": "KP2RvLJxLBpj",
        "outputId": "f472abf2-a48e-41bf-d5da-b6615cfefde1"
      },
      "outputs": [],
      "source": [
        "# Get Tweets (recent tweets from your account)\n",
        "tweets = api.user_timeline(count=2)\n",
        "for tweet in tweets:\n",
        "    print(tweet.text,'\\n')"
      ]
    },
    {
      "cell_type": "code",
      "execution_count": null,
      "metadata": {
        "colab": {
          "base_uri": "https://localhost:8080/"
        },
        "id": "W-o1zOpBMUgP",
        "outputId": "70c18baa-30c2-43bd-efe5-a84d433e761b"
      },
      "outputs": [],
      "source": [
        "# Tweet object has lots of data. Let's check out the Tweet JSON specs\n",
        "tweets = api.user_timeline(count=2)\n",
        "for tweet in tweets:\n",
        "    print(tweet.created_at)\n",
        "    print(tweet.id_str)\n",
        "    print(tweet.text,'\\n')"
      ]
    },
    {
      "cell_type": "markdown",
      "metadata": {
        "id": "ZJZbAx3hjCoY"
      },
      "source": [
        "### Delete a tweet"
      ]
    },
    {
      "cell_type": "code",
      "execution_count": null,
      "metadata": {
        "id": "nW8T07MWMvVL"
      },
      "outputs": [],
      "source": [
        "# Delete a Tweet\n",
        "to_be_deleted_tweet = api.update_status('Bad Tweet')"
      ]
    },
    {
      "cell_type": "code",
      "execution_count": null,
      "metadata": {
        "colab": {
          "base_uri": "https://localhost:8080/"
        },
        "id": "7qiYdLl-NTKr",
        "outputId": "04311639-2f60-44c9-dc72-b9399b3c2b16"
      },
      "outputs": [],
      "source": [
        "api.destroy_status(to_be_deleted_tweet.id_str)"
      ]
    },
    {
      "cell_type": "markdown",
      "metadata": {
        "id": "lF7VgsCljJA-"
      },
      "source": [
        "### Follow someone"
      ]
    },
    {
      "cell_type": "code",
      "execution_count": null,
      "metadata": {
        "colab": {
          "base_uri": "https://localhost:8080/"
        },
        "id": "t-ioeZc9B59d",
        "outputId": "4b5b76b0-4f9a-4f49-c629-7e8fb2ab9d1e"
      },
      "outputs": [],
      "source": [
        "# Follow\n",
        "api.create_friendship(screen_name='@YouTube')"
      ]
    },
    {
      "cell_type": "code",
      "execution_count": null,
      "metadata": {
        "colab": {
          "base_uri": "https://localhost:8080/"
        },
        "id": "aPcD9uy2NnAu",
        "outputId": "36fa4bdb-12a2-47ff-ec14-f896147c1f03"
      },
      "outputs": [],
      "source": [
        "# Unfollow\n",
        "api.destroy_friendship(screen_name='@YouTube')"
      ]
    },
    {
      "cell_type": "markdown",
      "metadata": {
        "id": "0oyrQNkKRzWQ"
      },
      "source": [
        "## Tweepy - Client Class (Twitter API v2.0)"
      ]
    },
    {
      "cell_type": "markdown",
      "metadata": {
        "id": "zSsoTq2NjPa2"
      },
      "source": [
        "### Authentication"
      ]
    },
    {
      "cell_type": "code",
      "execution_count": null,
      "metadata": {
        "colab": {
          "base_uri": "https://localhost:8080/"
        },
        "id": "fIh4fpXefhCH",
        "outputId": "c1502102-7539-43ad-dfdd-f1ec0b2e5d66"
      },
      "outputs": [],
      "source": [
        "# !pip install tweepy==4.9.0\n",
        "# import tweepy"
      ]
    },
    {
      "cell_type": "code",
      "execution_count": null,
      "metadata": {
        "id": "QZgz15VGRtjH"
      },
      "outputs": [],
      "source": [
        "# Authenticate with Twitter OAuth 2.0 Bearer Token (Application-only)\n",
        "client = tweepy.Client(bearer_token='AAAAAAAAAAAAAAAAAAAAAISqXwEAAAAAPSBG%2BW8YISXma2Wbc33al00Y2LY%3DUzB8OWxUDXKFS0AQ9ViLYsxPLhJvxD0eTUUYJEo4N8DwuIftum')"
      ]
    },
    {
      "cell_type": "markdown",
      "metadata": {
        "id": "uJcg5S9ujSLb"
      },
      "source": [
        "### Get recent public tweets on keywords"
      ]
    },
    {
      "cell_type": "code",
      "execution_count": null,
      "metadata": {
        "id": "H2vOTd4vRkHf"
      },
      "outputs": [],
      "source": [
        "# Pull tweets from twitter\n",
        "\n",
        "query = '#elonmusk -is:retweet lang:en'\n",
        "tweets = client.search_recent_tweets(query=query, tweet_fields=['context_annotations', 'created_at'], max_results=10)\n",
        "\n",
        "# Get tweets that contain the hashtag #TypeKeywordHere\n",
        "# -is:retweet means I don't want retweets\n",
        "# lang:en is asking for the tweets to be in english"
      ]
    },
    {
      "cell_type": "code",
      "execution_count": null,
      "metadata": {
        "colab": {
          "base_uri": "https://localhost:8080/"
        },
        "id": "49DQPigxVOhu",
        "outputId": "05a0963d-954f-4ad6-d91a-bbabd298acfc"
      },
      "outputs": [],
      "source": [
        "for tweet in tweets.data:\n",
        "    print('\\n**Tweet Text**\\n',tweet.text)"
      ]
    }
  ],
  "metadata": {
    "colab": {
      "collapsed_sections": [
        "rUdfYMvNR4Lk",
        "E4-arYLAiRXh",
        "4HAbsbvQiaxF",
        "IKjTKkYqirCO",
        "K9jsvMAsi01T",
        "ZJZbAx3hjCoY",
        "lF7VgsCljJA-",
        "zSsoTq2NjPa2",
        "uJcg5S9ujSLb"
      ],
      "provenance": []
    },
    "kernelspec": {
      "display_name": "Python 3",
      "name": "python3"
    },
    "language_info": {
      "codemirror_mode": {
        "name": "ipython",
        "version": 3
      },
      "file_extension": ".py",
      "mimetype": "text/x-python",
      "name": "python",
      "nbconvert_exporter": "python",
      "pygments_lexer": "ipython3",
      "version": "3.8.8"
    }
  },
  "nbformat": 4,
  "nbformat_minor": 0
}
