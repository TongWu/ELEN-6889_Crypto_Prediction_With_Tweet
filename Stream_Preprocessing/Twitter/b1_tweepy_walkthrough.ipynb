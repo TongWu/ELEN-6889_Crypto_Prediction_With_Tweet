{
  "cells": [
    {
      "cell_type": "markdown",
      "metadata": {
        "id": "mPv7Web_lwMG"
      },
      "source": [
        "# **Tutorial\\#1: Twitter API Config**"
      ]
    },
    {
      "cell_type": "code",
      "execution_count": null,
      "metadata": {
        "id": "xVjT--AWl2ni"
      },
      "outputs": [],
      "source": [
        "# API Key:        MM2gPHXgHgpQ3VjVTuxy4JvnP\n",
        "# API Secret:     EZEgJrpVeLLdmDIjXmvS0WAfCDetLZN8yfIxOJURiNe0NHsZDm\n",
        "\n",
        "# Bearer Token:   AAAAAAAAAAAAAAAAAAAAAG4bgAEAAAAAxuXvGZfK4zpNu4ATzIDN0aZxKn8%3D4cmJ6ISkOlEGpesm7J6MUXfC21Wa5oiiSIR3niHGrizQr4Bz4m\n",
        "\n",
        "# Access Token:   1538924473755537408-qHOakmkKhlENJVERSpse8Asm1rQTCt\n",
        "# Access Secret:  OLY3TZsCXittGUaveX3aEMogd2c6A5Le0bxBbpTq0SKJ8"
      ]
    },
    {
      "cell_type": "markdown",
      "metadata": {
        "id": "hDz0sTHKpMJP"
      },
      "source": [
        "# **Tutorial\\#2: Tweepy Walkthrough**"
      ]
    },
    {
      "cell_type": "markdown",
      "metadata": {
        "id": "rUdfYMvNR4Lk"
      },
      "source": [
        "## Set up environment"
      ]
    },
    {
      "cell_type": "code",
      "execution_count": null,
      "metadata": {
        "colab": {
          "base_uri": "https://localhost:8080/"
        },
        "id": "7Ur3YFMkWdPv",
        "outputId": "428da027-ab95-4861-ebe0-677003fb7ed9"
      },
      "outputs": [],
      "source": [
        "!pip install tweepy==4.9.0"
      ]
    },
    {
      "cell_type": "code",
      "execution_count": 1,
      "metadata": {
        "id": "6qYCpSPgReOr"
      },
      "outputs": [
        {
          "name": "stdout",
          "output_type": "stream",
          "text": [
            "XoswIcOpXdd5RLOiMhS9cHBQs\n"
          ]
        }
      ],
      "source": [
        "import tweepy\n",
        "import config\n",
        "import pandas as pd\n",
        "import emoji\n",
        "\n",
        "print(config.API_KEY)"
      ]
    },
    {
      "cell_type": "markdown",
      "metadata": {
        "id": "LwuM_oLmRspH"
      },
      "source": [
        "## Tweepy - API Class (Twitter API v1.1)"
      ]
    },
    {
      "cell_type": "markdown",
      "metadata": {
        "id": "E4-arYLAiRXh"
      },
      "source": [
        "### Authentication"
      ]
    },
    {
      "cell_type": "code",
      "execution_count": 3,
      "metadata": {
        "id": "jOf9n-6iJje8"
      },
      "outputs": [],
      "source": [
        "# Authenticate with Twitter OAuth 1.0a User Context\n",
        "auth = tweepy.OAuth1UserHandler(\n",
        "   config.API_KEY,                                           # API / Consumer Key here\n",
        "   config.API_SECRET,                                        # API / Consumer Secret here\n",
        "   config.ACCESS_TOKEN,                                      # Access Token here\n",
        "   config.ACCESS_TOKEN_SECRET                                # Access Token Secret here\n",
        ")\n",
        "api = tweepy.API(auth, wait_on_rate_limit=True)"
      ]
    },
    {
      "cell_type": "code",
      "execution_count": 53,
      "metadata": {},
      "outputs": [
        {
          "name": "stdout",
          "output_type": "stream",
          "text": [
            "2023-04-20 13:00:00\n",
            "2023-04-19 23:40:02+00:00\n",
            "2023-04-19 23:05:02+00:00\n",
            "2023-04-19 23:01:40+00:00\n",
            "2023-04-19 17:00:18+00:00\n",
            "2023-04-19 16:13:30+00:00\n",
            "2023-04-19 15:01:00+00:00\n",
            "2023-04-19 14:00:42+00:00\n",
            "2023-04-19 13:44:04+00:00\n",
            "2023-04-19 13:00:58+00:00\n",
            "2023-04-19 04:45:03+00:00\n",
            "2023-04-19 04:35:01+00:00\n",
            "2023-04-19 03:00:01+00:00\n",
            "2023-04-19 02:00:53+00:00\n",
            "2023-04-19 01:00:39+00:00\n",
            "2023-04-18 17:00:20+00:00\n",
            "2023-04-18 14:01:03+00:00\n",
            "2023-04-18 14:00:10+00:00\n",
            "2023-04-18 13:14:04+00:00\n",
            "2023-04-18 13:01:04+00:00\n",
            "2023-04-18 13:00:50+00:00\n",
            "2023-04-18 11:02:04+00:00\n",
            "2023-04-18 11:00:56+00:00\n",
            "2023-04-18 10:30:02+00:00\n",
            "2023-04-18 06:01:03+00:00\n",
            "2023-04-18 03:33:47+00:00\n",
            "2023-04-18 03:30:01+00:00\n",
            "2023-04-17 20:00:13+00:00\n",
            "2023-04-17 17:26:05+00:00\n",
            "2023-04-17 17:00:41+00:00\n",
            "2023-04-17 16:08:03+00:00\n",
            "2023-04-17 16:00:47+00:00\n",
            "2023-04-17 14:14:05+00:00\n",
            "2023-04-17 14:00:58+00:00\n",
            "2023-04-17 13:26:05+00:00\n",
            "2023-04-17 13:01:15+00:00\n",
            "2023-04-17 12:30:03+00:00\n",
            "2023-04-17 07:00:57+00:00\n",
            "2023-04-17 06:00:57+00:00\n",
            "2023-04-17 05:42:22+00:00\n",
            "2023-04-17 05:35:02+00:00\n",
            "2023-04-17 05:00:54+00:00\n",
            "2023-04-17 04:14:26+00:00\n",
            "2023-04-17 04:00:53+00:00\n",
            "2023-04-17 03:00:53+00:00\n",
            "2023-04-17 02:22:17+00:00\n",
            "2023-04-17 00:52:02+00:00\n",
            "2023-04-17 00:40:32+00:00\n",
            "2023-04-17 00:40:32+00:00\n",
            "2023-04-17 00:29:14+00:00\n",
            "2023-04-17 00:29:14+00:00\n",
            "2023-04-17 00:16:57+00:00\n",
            "2023-04-16 22:05:04+00:00\n",
            "2023-04-16 18:56:03+00:00\n",
            "2023-04-16 18:00:35+00:00\n",
            "2023-04-16 17:00:39+00:00\n",
            "2023-04-16 17:00:14+00:00\n",
            "2023-04-16 16:00:58+00:00\n",
            "2023-04-16 15:00:53+00:00\n",
            "2023-04-16 14:51:26+00:00\n",
            "2023-04-16 13:33:04+00:00\n",
            "2023-04-16 13:03:04+00:00\n",
            "2023-04-16 13:00:36+00:00\n",
            "2023-04-16 11:00:59+00:00\n",
            "2023-04-16 10:00:35+00:00\n",
            "2023-04-16 09:14:03+00:00\n",
            "2023-04-16 09:00:59+00:00\n",
            "2023-04-16 08:00:41+00:00\n",
            "2023-04-16 07:06:17+00:00\n",
            "2023-04-16 06:10:02+00:00\n",
            "2023-04-16 05:25:00+00:00\n",
            "2023-04-16 04:00:55+00:00\n",
            "2023-04-16 03:01:13+00:00\n",
            "2023-04-16 01:00:55+00:00\n",
            "2023-04-16 00:15:16+00:00\n",
            "2023-04-16 00:14:27+00:00\n",
            "2023-04-16 00:14:03+00:00\n",
            "2023-04-16 00:13:26+00:00\n",
            "2023-04-15 23:50:02+00:00\n",
            "2023-04-15 19:46:04+00:00\n",
            "2023-04-15 18:01:00+00:00\n",
            "2023-04-15 17:01:05+00:00\n",
            "2023-04-15 17:00:31+00:00\n",
            "2023-04-15 15:00:37+00:00\n",
            "2023-04-15 14:00:56+00:00\n",
            "2023-04-15 13:20:06+00:00\n",
            "2023-04-15 13:00:59+00:00\n",
            "2023-04-15 12:00:40+00:00\n",
            "2023-04-15 11:59:52+00:00\n",
            "2023-04-15 11:20:04+00:00\n",
            "2023-04-15 11:00:53+00:00\n",
            "2023-04-15 10:01:00+00:00\n",
            "2023-04-15 09:00:51+00:00\n",
            "2023-04-15 08:00:53+00:00\n",
            "2023-04-15 07:17:04+00:00\n",
            "2023-04-15 07:01:07+00:00\n",
            "2023-04-15 07:00:31+00:00\n",
            "2023-04-15 07:00:21+00:00\n",
            "2023-04-15 06:00:43+00:00\n",
            "2023-04-15 05:00:54+00:00\n",
            "2023-04-15 04:01:09+00:00\n",
            "2023-04-15 01:00:57+00:00\n",
            "2023-04-15 00:01:10+00:00\n",
            "2023-04-14 23:54:26+00:00\n",
            "2023-04-14 23:01:02+00:00\n",
            "2023-04-14 21:00:39+00:00\n",
            "2023-04-14 20:00:57+00:00\n",
            "2023-04-14 18:35:06+00:00\n",
            "2023-04-14 17:00:31+00:00\n",
            "2023-04-14 16:01:03+00:00\n",
            "2023-04-14 15:41:27+00:00\n",
            "2023-04-14 15:01:09+00:00\n",
            "2023-04-14 14:00:53+00:00\n",
            "2023-04-14 13:40:06+00:00\n",
            "2023-04-14 13:19:03+00:00\n",
            "2023-04-14 13:01:02+00:00\n",
            "2023-04-14 11:46:04+00:00\n",
            "2023-04-14 11:00:52+00:00\n",
            "2023-04-14 10:01:05+00:00\n",
            "2023-04-14 09:44:03+00:00\n",
            "2023-04-14 09:00:58+00:00\n",
            "2023-04-14 08:00:58+00:00\n",
            "2023-04-14 07:04:18+00:00\n",
            "2023-04-14 04:00:43+00:00\n",
            "2023-04-14 04:00:39+00:00\n",
            "2023-04-14 03:30:04+00:00\n",
            "2023-04-14 03:00:41+00:00\n",
            "2023-04-14 03:00:06+00:00\n",
            "2023-04-14 03:00:03+00:00\n",
            "2023-04-14 02:30:04+00:00\n",
            "2023-04-14 02:00:37+00:00\n",
            "2023-04-14 02:00:21+00:00\n",
            "2023-04-14 02:00:03+00:00\n",
            "2023-04-14 01:30:04+00:00\n",
            "2023-04-14 01:00:54+00:00\n",
            "2023-04-14 01:00:03+00:00\n",
            "2023-04-14 01:00:03+00:00\n",
            "2023-04-14 00:47:55+00:00\n",
            "2023-04-14 00:30:03+00:00\n",
            "2023-04-14 00:00:21+00:00\n",
            "2023-04-14 00:00:03+00:00\n",
            "2023-04-13 23:30:04+00:00\n",
            "2023-04-13 23:00:59+00:00\n",
            "2023-04-13 23:00:49+00:00\n",
            "2023-04-13 23:00:48+00:00\n",
            "2023-04-13 23:00:04+00:00\n",
            "2023-04-13 23:00:03+00:00\n",
            "2023-04-13 22:30:05+00:00\n",
            "2023-04-13 22:00:44+00:00\n",
            "2023-04-13 22:00:08+00:00\n",
            "2023-04-13 22:00:03+00:00\n",
            "2023-04-13 21:30:05+00:00\n",
            "2023-04-13 21:01:03+00:00\n",
            "2023-04-13 21:00:45+00:00\n",
            "2023-04-13 21:00:04+00:00\n",
            "2023-04-13 20:30:05+00:00\n",
            "2023-04-13 20:00:52+00:00\n",
            "2023-04-13 20:00:43+00:00\n",
            "2023-04-13 20:00:28+00:00\n",
            "2023-04-13 20:00:05+00:00\n",
            "2023-04-13 20:00:03+00:00\n",
            "2023-04-13 19:30:04+00:00\n",
            "2023-04-13 19:00:43+00:00\n",
            "2023-04-13 19:00:05+00:00\n",
            "2023-04-13 19:00:02+00:00\n",
            "2023-04-13 18:34:32+00:00\n",
            "2023-04-13 18:30:05+00:00\n",
            "2023-04-13 18:01:03+00:00\n",
            "2023-04-13 18:00:27+00:00\n",
            "2023-04-13 18:00:03+00:00\n",
            "2023-04-13 17:30:03+00:00\n",
            "2023-04-13 17:00:57+00:00\n",
            "2023-04-13 17:00:35+00:00\n",
            "2023-04-13 17:00:33+00:00\n",
            "2023-04-13 17:00:05+00:00\n",
            "2023-04-13 17:00:03+00:00\n",
            "2023-04-13 16:30:03+00:00\n",
            "2023-04-13 16:01:01+00:00\n",
            "2023-04-13 16:00:43+00:00\n",
            "2023-04-13 16:00:27+00:00\n",
            "2023-04-13 16:00:16+00:00\n",
            "2023-04-13 16:00:10+00:00\n",
            "2023-04-13 16:00:03+00:00\n",
            "2023-04-13 15:30:04+00:00\n",
            "2023-04-13 15:00:53+00:00\n",
            "2023-04-13 15:00:33+00:00\n",
            "2023-04-13 15:00:01+00:00\n",
            "2023-04-13 14:30:03+00:00\n",
            "2023-04-13 14:00:58+00:00\n",
            "2023-04-13 14:00:50+00:00\n",
            "2023-04-13 14:00:02+00:00\n",
            "2023-04-13 13:50:05+00:00\n",
            "2023-04-13 13:30:02+00:00\n",
            "2023-04-13 13:00:55+00:00\n",
            "2023-04-13 13:00:27+00:00\n",
            "2023-04-13 13:00:02+00:00\n",
            "2023-04-13 12:45:02+00:00\n",
            "2023-04-13 12:30:03+00:00\n",
            "2023-04-13 12:07:04+00:00\n",
            "2023-04-13 12:00:58+00:00\n",
            "2023-04-13 12:00:43+00:00\n",
            "2023-04-13 12:00:25+00:00\n",
            "2023-04-13 12:00:06+00:00\n",
            "2023-04-13 12:00:02+00:00\n",
            "2023-04-13 11:30:02+00:00\n",
            "2023-04-13 11:00:57+00:00\n",
            "2023-04-13 11:00:04+00:00\n",
            "2023-04-13 11:00:02+00:00\n",
            "2023-04-13 10:30:03+00:00\n",
            "2023-04-13 10:00:48+00:00\n",
            "2023-04-13 10:00:22+00:00\n",
            "2023-04-13 10:00:02+00:00\n",
            "2023-04-13 09:30:03+00:00\n",
            "2023-04-13 09:00:50+00:00\n",
            "2023-04-13 09:00:16+00:00\n",
            "2023-04-13 09:00:01+00:00\n",
            "2023-04-13 08:30:02+00:00\n",
            "2023-04-13 08:11:00+00:00\n",
            "2023-04-13 08:00:44+00:00\n",
            "2023-04-13 08:00:43+00:00\n",
            "2023-04-13 08:00:41+00:00\n",
            "2023-04-13 08:00:02+00:00\n",
            "2023-04-13 08:00:01+00:00\n",
            "2023-04-13 07:30:03+00:00\n",
            "2023-04-13 07:00:54+00:00\n",
            "2023-04-13 07:00:11+00:00\n",
            "2023-04-13 07:00:02+00:00\n",
            "2023-04-13 06:51:45+00:00\n",
            "2023-04-13 06:30:02+00:00\n",
            "2023-04-13 06:00:54+00:00\n",
            "2023-04-13 06:00:11+00:00\n",
            "2023-04-13 06:00:02+00:00\n",
            "2023-04-13 05:30:02+00:00\n",
            "2023-04-13 05:17:49+00:00\n",
            "2023-04-13 05:00:53+00:00\n",
            "2023-04-13 05:00:45+00:00\n",
            "2023-04-13 05:00:02+00:00\n",
            "2023-04-13 04:30:42+00:00\n",
            "2023-04-13 04:30:04+00:00\n",
            "2023-04-13 04:30:03+00:00\n",
            "2023-04-13 04:00:49+00:00\n",
            "2023-04-13 04:00:43+00:00\n",
            "2023-04-13 04:00:31+00:00\n",
            "2023-04-13 04:00:24+00:00\n",
            "2023-04-13 04:00:07+00:00\n",
            "2023-04-13 04:00:02+00:00\n",
            "2023-04-13 03:50:14+00:00\n",
            "2023-04-13 03:00:56+00:00\n",
            "2023-04-13 02:00:53+00:00\n",
            "2023-04-13 01:00:46+00:00\n",
            "2023-04-13 01:00:09+00:00\n",
            "2023-04-13 00:47:02+00:00\n",
            "2023-04-13 00:35:26+00:00\n",
            "2023-04-13 00:28:25+00:00\n",
            "2023-04-13 00:28:22+00:00\n",
            "2023-04-13 00:25:42+00:00\n",
            "2023-04-13 00:10:01+00:00\n",
            "2023-04-13 00:00:43+00:00\n",
            "2023-04-13 00:00:43+00:00\n",
            "2023-04-12 23:54:38+00:00\n",
            "2023-04-12 23:41:33+00:00\n",
            "2023-04-12 23:28:29+00:00\n",
            "2023-04-12 23:14:44+00:00\n",
            "2023-04-12 23:01:39+00:00\n",
            "2023-04-12 22:51:16+00:00\n",
            "2023-04-12 20:23:02+00:00\n",
            "2023-04-12 19:42:03+00:00\n",
            "2023-04-12 17:13:26+00:00\n",
            "2023-04-12 17:00:10+00:00\n",
            "2023-04-12 16:20:02+00:00\n",
            "2023-04-12 13:58:03+00:00\n",
            "2023-04-12 13:47:03+00:00\n",
            "2023-04-12 13:05:06+00:00\n",
            "2023-04-12 13:01:04+00:00\n",
            "2023-04-12 11:01:24+00:00\n",
            "2023-04-12 07:13:52+00:00\n",
            "2023-04-12 06:18:28+00:00\n",
            "2023-04-12 04:30:03+00:00\n",
            "2023-04-12 04:10:41+00:00\n",
            "2023-04-12 04:00:39+00:00\n",
            "2023-04-12 00:16:34+00:00\n",
            "2023-04-12 00:14:03+00:00\n",
            "2023-04-11 23:00:04+00:00\n",
            "2023-04-11 22:12:04+00:00\n",
            "2023-04-11 22:01:04+00:00\n",
            "2023-04-11 21:01:00+00:00\n",
            "2023-04-11 17:01:01+00:00\n",
            "2023-04-11 17:00:38+00:00\n",
            "2023-04-11 16:00:59+00:00\n",
            "2023-04-11 15:01:01+00:00\n",
            "2023-04-11 14:01:02+00:00\n",
            "2023-04-11 13:40:05+00:00\n",
            "2023-04-11 13:13:03+00:00\n",
            "2023-04-11 13:03:03+00:00\n",
            "2023-04-11 13:01:02+00:00\n",
            "2023-04-11 12:05:02+00:00\n",
            "2023-04-11 12:00:56+00:00\n",
            "2023-04-11 11:00:55+00:00\n",
            "2023-04-11 10:01:05+00:00\n",
            "2023-04-11 09:21:01+00:00\n",
            "2023-04-11 09:01:00+00:00\n",
            "2023-04-11 08:32:25+00:00\n",
            "2023-04-11 08:00:55+00:00\n",
            "2023-04-11 07:11:01+00:00\n",
            "2023-04-11 07:00:49+00:00\n",
            "2023-04-11 02:00:56+00:00\n"
          ]
        }
      ],
      "source": [
        "import datetime\n",
        "\n",
        "query_crypto = 'cryptocurrency OR crypto'\n",
        "query_bitcoin = '#bitcoin -filter:retweets'\n",
        "query_ether = 'Ethereum OR Ether'\n",
        "\n",
        "end_date = datetime.datetime(2023, 4, 20, 13, 00, 00)\n",
        "print(end_date)\n",
        "tweets = tweepy.Cursor(api.search_tweets, q=query_bitcoin, until=end_date, lang='en', count=100).items(500)\n",
        "\n",
        "data = []\n",
        "for tweet in tweets:\n",
        "    date = tweet.created_at\n",
        "    content = tweet.text\n",
        "    content_no_emoji = emoji.replace_emoji(content, replace=\" \")\n",
        "    print(date)\n",
        "    data.append([date, content_no_emoji,\"crypto\"])  "
      ]
    },
    {
      "cell_type": "code",
      "execution_count": 4,
      "metadata": {},
      "outputs": [
        {
          "name": "stderr",
          "output_type": "stream",
          "text": [
            "Rate limit reached. Sleeping for: 800\n"
          ]
        }
      ],
      "source": [
        "import datetime\n",
        "\n",
        "end_date = datetime.date.today()\n",
        "tweets = []\n",
        "tweets = tweepy.Cursor(api.search_tweets, q='bitcoin', until=end_date, lang='en', count=100).items()\n",
        "\n",
        "for tweet in tweets:\n",
        "    print(tweet.created_at) \n",
        "print(tweets)\n",
        "\n"
      ]
    },
    {
      "cell_type": "code",
      "execution_count": 54,
      "metadata": {},
      "outputs": [
        {
          "name": "stdout",
          "output_type": "stream",
          "text": [
            "305\n"
          ]
        }
      ],
      "source": [
        "print(len(data))"
      ]
    },
    {
      "attachments": {},
      "cell_type": "markdown",
      "metadata": {},
      "source": [
        "## store into dataframe"
      ]
    },
    {
      "cell_type": "code",
      "execution_count": 55,
      "metadata": {},
      "outputs": [
        {
          "data": {
            "text/html": [
              "<div>\n",
              "<style scoped>\n",
              "    .dataframe tbody tr th:only-of-type {\n",
              "        vertical-align: middle;\n",
              "    }\n",
              "\n",
              "    .dataframe tbody tr th {\n",
              "        vertical-align: top;\n",
              "    }\n",
              "\n",
              "    .dataframe thead th {\n",
              "        text-align: right;\n",
              "    }\n",
              "</style>\n",
              "<table border=\"1\" class=\"dataframe\">\n",
              "  <thead>\n",
              "    <tr style=\"text-align: right;\">\n",
              "      <th></th>\n",
              "      <th>date</th>\n",
              "      <th>tweet</th>\n",
              "      <th>type</th>\n",
              "    </tr>\n",
              "  </thead>\n",
              "  <tbody>\n",
              "    <tr>\n",
              "      <th>0</th>\n",
              "      <td>2023-04-19 23:40:02+00:00</td>\n",
              "      <td>Your Surprise!\\n: 3.58 %\\n$juv : 4.20 %\\n$nu :...</td>\n",
              "      <td>crypto</td>\n",
              "    </tr>\n",
              "    <tr>\n",
              "      <th>1</th>\n",
              "      <td>2023-04-19 23:05:02+00:00</td>\n",
              "      <td>#HOTUSDT #HOT \\nSignal #10  \\n\\nLast Signal: 9...</td>\n",
              "      <td>crypto</td>\n",
              "    </tr>\n",
              "    <tr>\n",
              "      <th>2</th>\n",
              "      <td>2023-04-19 23:01:40+00:00</td>\n",
              "      <td>- \\nBTC price: $29,095 / £24,311 \\n\\n34.37 Nak...</td>\n",
              "      <td>crypto</td>\n",
              "    </tr>\n",
              "    <tr>\n",
              "      <th>3</th>\n",
              "      <td>2023-04-19 17:00:18+00:00</td>\n",
              "      <td>1 BTC Price: Bitstamp 29338 USD #BTC #Bitcoin ...</td>\n",
              "      <td>crypto</td>\n",
              "    </tr>\n",
              "    <tr>\n",
              "      <th>4</th>\n",
              "      <td>2023-04-19 16:13:30+00:00</td>\n",
              "      <td>Markets Overview :\\n\\n#SPX - 4,135.71 (-0.46...</td>\n",
              "      <td>crypto</td>\n",
              "    </tr>\n",
              "  </tbody>\n",
              "</table>\n",
              "</div>"
            ],
            "text/plain": [
              "                       date  \\\n",
              "0 2023-04-19 23:40:02+00:00   \n",
              "1 2023-04-19 23:05:02+00:00   \n",
              "2 2023-04-19 23:01:40+00:00   \n",
              "3 2023-04-19 17:00:18+00:00   \n",
              "4 2023-04-19 16:13:30+00:00   \n",
              "\n",
              "                                               tweet    type  \n",
              "0  Your Surprise!\\n: 3.58 %\\n$juv : 4.20 %\\n$nu :...  crypto  \n",
              "1  #HOTUSDT #HOT \\nSignal #10  \\n\\nLast Signal: 9...  crypto  \n",
              "2  - \\nBTC price: $29,095 / £24,311 \\n\\n34.37 Nak...  crypto  \n",
              "3  1 BTC Price: Bitstamp 29338 USD #BTC #Bitcoin ...  crypto  \n",
              "4    Markets Overview :\\n\\n#SPX - 4,135.71 (-0.46...  crypto  "
            ]
          },
          "execution_count": 55,
          "metadata": {},
          "output_type": "execute_result"
        }
      ],
      "source": [
        "df = pd.DataFrame(data, columns=['date','tweet','type'])\n",
        "df.head(5)"
      ]
    },
    {
      "cell_type": "code",
      "execution_count": 56,
      "metadata": {},
      "outputs": [
        {
          "data": {
            "text/html": [
              "<div>\n",
              "<style scoped>\n",
              "    .dataframe tbody tr th:only-of-type {\n",
              "        vertical-align: middle;\n",
              "    }\n",
              "\n",
              "    .dataframe tbody tr th {\n",
              "        vertical-align: top;\n",
              "    }\n",
              "\n",
              "    .dataframe thead th {\n",
              "        text-align: right;\n",
              "    }\n",
              "</style>\n",
              "<table border=\"1\" class=\"dataframe\">\n",
              "  <thead>\n",
              "    <tr style=\"text-align: right;\">\n",
              "      <th></th>\n",
              "      <th>date</th>\n",
              "      <th>tweet</th>\n",
              "      <th>type</th>\n",
              "    </tr>\n",
              "  </thead>\n",
              "  <tbody>\n",
              "    <tr>\n",
              "      <th>300</th>\n",
              "      <td>2023-04-11 08:32:25+00:00</td>\n",
              "      <td>#Bitcoin giveaway starts now!\\n\\nWe are giving...</td>\n",
              "      <td>crypto</td>\n",
              "    </tr>\n",
              "    <tr>\n",
              "      <th>301</th>\n",
              "      <td>2023-04-11 08:00:55+00:00</td>\n",
              "      <td>Tue, 11 Apr 2023 08:00:35 GMT - TOP 10 - $B...</td>\n",
              "      <td>crypto</td>\n",
              "    </tr>\n",
              "    <tr>\n",
              "      <th>302</th>\n",
              "      <td>2023-04-11 07:11:01+00:00</td>\n",
              "      <td>Let's place your opinions!! Whether Bitcoin US...</td>\n",
              "      <td>crypto</td>\n",
              "    </tr>\n",
              "    <tr>\n",
              "      <th>303</th>\n",
              "      <td>2023-04-11 07:00:49+00:00</td>\n",
              "      <td>Tue, 11 Apr 2023 07:00:36 GMT - TOP 10 - $B...</td>\n",
              "      <td>crypto</td>\n",
              "    </tr>\n",
              "    <tr>\n",
              "      <th>304</th>\n",
              "      <td>2023-04-11 02:00:56+00:00</td>\n",
              "      <td>Tue, 11 Apr 2023 02:00:36 GMT - TOP 10 - $B...</td>\n",
              "      <td>crypto</td>\n",
              "    </tr>\n",
              "  </tbody>\n",
              "</table>\n",
              "</div>"
            ],
            "text/plain": [
              "                         date  \\\n",
              "300 2023-04-11 08:32:25+00:00   \n",
              "301 2023-04-11 08:00:55+00:00   \n",
              "302 2023-04-11 07:11:01+00:00   \n",
              "303 2023-04-11 07:00:49+00:00   \n",
              "304 2023-04-11 02:00:56+00:00   \n",
              "\n",
              "                                                 tweet    type  \n",
              "300  #Bitcoin giveaway starts now!\\n\\nWe are giving...  crypto  \n",
              "301     Tue, 11 Apr 2023 08:00:35 GMT - TOP 10 - $B...  crypto  \n",
              "302  Let's place your opinions!! Whether Bitcoin US...  crypto  \n",
              "303     Tue, 11 Apr 2023 07:00:36 GMT - TOP 10 - $B...  crypto  \n",
              "304     Tue, 11 Apr 2023 02:00:36 GMT - TOP 10 - $B...  crypto  "
            ]
          },
          "execution_count": 56,
          "metadata": {},
          "output_type": "execute_result"
        }
      ],
      "source": [
        "df.tail(5)"
      ]
    },
    {
      "attachments": {},
      "cell_type": "markdown",
      "metadata": {},
      "source": [
        "### save into csv"
      ]
    },
    {
      "cell_type": "code",
      "execution_count": 52,
      "metadata": {},
      "outputs": [],
      "source": [
        "file_name = \"C:\\\\Users\\\\ee527\\\\Desktop\\\\ELEN-E6889_Crypto_Prediction_With_Tweet\\\\Stream_Preprocessing\\\\Twitter\\\\twitter.csv\"\n",
        "df.to_csv(file_name, encoding='utf-8')"
      ]
    },
    {
      "cell_type": "code",
      "execution_count": 1,
      "metadata": {},
      "outputs": [
        {
          "ename": "ParserError",
          "evalue": "Error tokenizing data. C error: EOF inside string starting at row 883145",
          "output_type": "error",
          "traceback": [
            "\u001b[1;31m---------------------------------------------------------------------------\u001b[0m",
            "\u001b[1;31mParserError\u001b[0m                               Traceback (most recent call last)",
            "\u001b[1;32m<ipython-input-1-fdf95e2e6ce2>\u001b[0m in \u001b[0;36m<module>\u001b[1;34m\u001b[0m\n\u001b[0;32m      1\u001b[0m \u001b[1;32mimport\u001b[0m \u001b[0mpandas\u001b[0m \u001b[1;32mas\u001b[0m \u001b[0mpd\u001b[0m\u001b[1;33m\u001b[0m\u001b[1;33m\u001b[0m\u001b[0m\n\u001b[0;32m      2\u001b[0m \u001b[1;33m\u001b[0m\u001b[0m\n\u001b[1;32m----> 3\u001b[1;33m \u001b[0mdf\u001b[0m \u001b[1;33m=\u001b[0m \u001b[0mpd\u001b[0m\u001b[1;33m.\u001b[0m\u001b[0mread_csv\u001b[0m\u001b[1;33m(\u001b[0m\u001b[1;34mr\"C:\\Users\\ee527\\Desktop\\Archive\\tweetsfinal3.csv\"\u001b[0m\u001b[1;33m)\u001b[0m\u001b[1;33m\u001b[0m\u001b[1;33m\u001b[0m\u001b[0m\n\u001b[0m\u001b[0;32m      4\u001b[0m \u001b[1;33m\u001b[0m\u001b[0m\n\u001b[0;32m      5\u001b[0m \u001b[0mprint\u001b[0m\u001b[1;33m(\u001b[0m\u001b[0mdf\u001b[0m\u001b[1;33m)\u001b[0m\u001b[1;33m\u001b[0m\u001b[1;33m\u001b[0m\u001b[0m\n",
            "\u001b[1;32mc:\\Users\\ee527\\anaconda3\\lib\\site-packages\\pandas\\io\\parsers.py\u001b[0m in \u001b[0;36mread_csv\u001b[1;34m(filepath_or_buffer, sep, delimiter, header, names, index_col, usecols, squeeze, prefix, mangle_dupe_cols, dtype, engine, converters, true_values, false_values, skipinitialspace, skiprows, skipfooter, nrows, na_values, keep_default_na, na_filter, verbose, skip_blank_lines, parse_dates, infer_datetime_format, keep_date_col, date_parser, dayfirst, cache_dates, iterator, chunksize, compression, thousands, decimal, lineterminator, quotechar, quoting, doublequote, escapechar, comment, encoding, dialect, error_bad_lines, warn_bad_lines, delim_whitespace, low_memory, memory_map, float_precision, storage_options)\u001b[0m\n\u001b[0;32m    608\u001b[0m     \u001b[0mkwds\u001b[0m\u001b[1;33m.\u001b[0m\u001b[0mupdate\u001b[0m\u001b[1;33m(\u001b[0m\u001b[0mkwds_defaults\u001b[0m\u001b[1;33m)\u001b[0m\u001b[1;33m\u001b[0m\u001b[1;33m\u001b[0m\u001b[0m\n\u001b[0;32m    609\u001b[0m \u001b[1;33m\u001b[0m\u001b[0m\n\u001b[1;32m--> 610\u001b[1;33m     \u001b[1;32mreturn\u001b[0m \u001b[0m_read\u001b[0m\u001b[1;33m(\u001b[0m\u001b[0mfilepath_or_buffer\u001b[0m\u001b[1;33m,\u001b[0m \u001b[0mkwds\u001b[0m\u001b[1;33m)\u001b[0m\u001b[1;33m\u001b[0m\u001b[1;33m\u001b[0m\u001b[0m\n\u001b[0m\u001b[0;32m    611\u001b[0m \u001b[1;33m\u001b[0m\u001b[0m\n\u001b[0;32m    612\u001b[0m \u001b[1;33m\u001b[0m\u001b[0m\n",
            "\u001b[1;32mc:\\Users\\ee527\\anaconda3\\lib\\site-packages\\pandas\\io\\parsers.py\u001b[0m in \u001b[0;36m_read\u001b[1;34m(filepath_or_buffer, kwds)\u001b[0m\n\u001b[0;32m    466\u001b[0m \u001b[1;33m\u001b[0m\u001b[0m\n\u001b[0;32m    467\u001b[0m     \u001b[1;32mwith\u001b[0m \u001b[0mparser\u001b[0m\u001b[1;33m:\u001b[0m\u001b[1;33m\u001b[0m\u001b[1;33m\u001b[0m\u001b[0m\n\u001b[1;32m--> 468\u001b[1;33m         \u001b[1;32mreturn\u001b[0m \u001b[0mparser\u001b[0m\u001b[1;33m.\u001b[0m\u001b[0mread\u001b[0m\u001b[1;33m(\u001b[0m\u001b[0mnrows\u001b[0m\u001b[1;33m)\u001b[0m\u001b[1;33m\u001b[0m\u001b[1;33m\u001b[0m\u001b[0m\n\u001b[0m\u001b[0;32m    469\u001b[0m \u001b[1;33m\u001b[0m\u001b[0m\n\u001b[0;32m    470\u001b[0m \u001b[1;33m\u001b[0m\u001b[0m\n",
            "\u001b[1;32mc:\\Users\\ee527\\anaconda3\\lib\\site-packages\\pandas\\io\\parsers.py\u001b[0m in \u001b[0;36mread\u001b[1;34m(self, nrows)\u001b[0m\n\u001b[0;32m   1055\u001b[0m     \u001b[1;32mdef\u001b[0m \u001b[0mread\u001b[0m\u001b[1;33m(\u001b[0m\u001b[0mself\u001b[0m\u001b[1;33m,\u001b[0m \u001b[0mnrows\u001b[0m\u001b[1;33m=\u001b[0m\u001b[1;32mNone\u001b[0m\u001b[1;33m)\u001b[0m\u001b[1;33m:\u001b[0m\u001b[1;33m\u001b[0m\u001b[1;33m\u001b[0m\u001b[0m\n\u001b[0;32m   1056\u001b[0m         \u001b[0mnrows\u001b[0m \u001b[1;33m=\u001b[0m \u001b[0mvalidate_integer\u001b[0m\u001b[1;33m(\u001b[0m\u001b[1;34m\"nrows\"\u001b[0m\u001b[1;33m,\u001b[0m \u001b[0mnrows\u001b[0m\u001b[1;33m)\u001b[0m\u001b[1;33m\u001b[0m\u001b[1;33m\u001b[0m\u001b[0m\n\u001b[1;32m-> 1057\u001b[1;33m         \u001b[0mindex\u001b[0m\u001b[1;33m,\u001b[0m \u001b[0mcolumns\u001b[0m\u001b[1;33m,\u001b[0m \u001b[0mcol_dict\u001b[0m \u001b[1;33m=\u001b[0m \u001b[0mself\u001b[0m\u001b[1;33m.\u001b[0m\u001b[0m_engine\u001b[0m\u001b[1;33m.\u001b[0m\u001b[0mread\u001b[0m\u001b[1;33m(\u001b[0m\u001b[0mnrows\u001b[0m\u001b[1;33m)\u001b[0m\u001b[1;33m\u001b[0m\u001b[1;33m\u001b[0m\u001b[0m\n\u001b[0m\u001b[0;32m   1058\u001b[0m \u001b[1;33m\u001b[0m\u001b[0m\n\u001b[0;32m   1059\u001b[0m         \u001b[1;32mif\u001b[0m \u001b[0mindex\u001b[0m \u001b[1;32mis\u001b[0m \u001b[1;32mNone\u001b[0m\u001b[1;33m:\u001b[0m\u001b[1;33m\u001b[0m\u001b[1;33m\u001b[0m\u001b[0m\n",
            "\u001b[1;32mc:\\Users\\ee527\\anaconda3\\lib\\site-packages\\pandas\\io\\parsers.py\u001b[0m in \u001b[0;36mread\u001b[1;34m(self, nrows)\u001b[0m\n\u001b[0;32m   2059\u001b[0m     \u001b[1;32mdef\u001b[0m \u001b[0mread\u001b[0m\u001b[1;33m(\u001b[0m\u001b[0mself\u001b[0m\u001b[1;33m,\u001b[0m \u001b[0mnrows\u001b[0m\u001b[1;33m=\u001b[0m\u001b[1;32mNone\u001b[0m\u001b[1;33m)\u001b[0m\u001b[1;33m:\u001b[0m\u001b[1;33m\u001b[0m\u001b[1;33m\u001b[0m\u001b[0m\n\u001b[0;32m   2060\u001b[0m         \u001b[1;32mtry\u001b[0m\u001b[1;33m:\u001b[0m\u001b[1;33m\u001b[0m\u001b[1;33m\u001b[0m\u001b[0m\n\u001b[1;32m-> 2061\u001b[1;33m             \u001b[0mdata\u001b[0m \u001b[1;33m=\u001b[0m \u001b[0mself\u001b[0m\u001b[1;33m.\u001b[0m\u001b[0m_reader\u001b[0m\u001b[1;33m.\u001b[0m\u001b[0mread\u001b[0m\u001b[1;33m(\u001b[0m\u001b[0mnrows\u001b[0m\u001b[1;33m)\u001b[0m\u001b[1;33m\u001b[0m\u001b[1;33m\u001b[0m\u001b[0m\n\u001b[0m\u001b[0;32m   2062\u001b[0m         \u001b[1;32mexcept\u001b[0m \u001b[0mStopIteration\u001b[0m\u001b[1;33m:\u001b[0m\u001b[1;33m\u001b[0m\u001b[1;33m\u001b[0m\u001b[0m\n\u001b[0;32m   2063\u001b[0m             \u001b[1;32mif\u001b[0m \u001b[0mself\u001b[0m\u001b[1;33m.\u001b[0m\u001b[0m_first_chunk\u001b[0m\u001b[1;33m:\u001b[0m\u001b[1;33m\u001b[0m\u001b[1;33m\u001b[0m\u001b[0m\n",
            "\u001b[1;32mpandas\\_libs\\parsers.pyx\u001b[0m in \u001b[0;36mpandas._libs.parsers.TextReader.read\u001b[1;34m()\u001b[0m\n",
            "\u001b[1;32mpandas\\_libs\\parsers.pyx\u001b[0m in \u001b[0;36mpandas._libs.parsers.TextReader._read_low_memory\u001b[1;34m()\u001b[0m\n",
            "\u001b[1;32mpandas\\_libs\\parsers.pyx\u001b[0m in \u001b[0;36mpandas._libs.parsers.TextReader._read_rows\u001b[1;34m()\u001b[0m\n",
            "\u001b[1;32mpandas\\_libs\\parsers.pyx\u001b[0m in \u001b[0;36mpandas._libs.parsers.TextReader._tokenize_rows\u001b[1;34m()\u001b[0m\n",
            "\u001b[1;32mpandas\\_libs\\parsers.pyx\u001b[0m in \u001b[0;36mpandas._libs.parsers.raise_parser_error\u001b[1;34m()\u001b[0m\n",
            "\u001b[1;31mParserError\u001b[0m: Error tokenizing data. C error: EOF inside string starting at row 883145"
          ]
        }
      ],
      "source": [
        "import pandas as pd\n",
        "\n",
        "df = pd.read_csv(r\"C:\\Users\\ee527\\Desktop\\Archive\\tweetsfinal3.csv\")\n",
        "\n",
        "print(df) "
      ]
    },
    {
      "cell_type": "code",
      "execution_count": 2,
      "metadata": {},
      "outputs": [],
      "source": [
        "\n",
        "lines = []\n",
        "with open(r\"C:\\Users\\ee527\\Desktop\\Archive\\tweetsfinal3.csv\", 'r') as f:\n",
        "    for l in f:\n",
        "        lines.append(l)"
      ]
    },
    {
      "cell_type": "code",
      "execution_count": 5,
      "metadata": {},
      "outputs": [
        {
          "data": {
            "text/plain": [
              "['\"Mon Nov 27 17:40:38 EST 2017\",\"RT @daneelproject: Another day, another high score ! We are now listed on https://t.co/4MyxeVXwdT with a score of 4.4/5 ! 🤩Thank you @ICObe…\",\"null\",\"null\"\\n',\n",
              " '\"Mon Nov 27 17:40:38 EST 2017\",\"RT @BankExProtocol: Be prepared to BKX #tokensale. Answer about wallet you will use for purchase.\\n',\n",
              " 'What wallet is recommended by BANKEX?\",\"null\",\"null\"\\n',\n",
              " '\"Mon Nov 27 17:40:38 EST 2017\",\"(Bitcoin Price Analysis: Bitcoin Tests Parabolic Trend After 25% Weekly Growth) has been published on Cryptocurrenc… https://t.co/XTm5wir17I\",\"null\",\"null\"\\n',\n",
              " '\"Mon Nov 27 17:40:37 EST 2017\",\"RT @daneelproject: Daneel uses a specially developed algorithm to help you define the reliability of a cryptocurrency at a specific time. h…\",\"null\",\"null\"\\n',\n",
              " '\"Mon Nov 27 17:40:36 EST 2017\",\"RT @JacBurns_Comext: #Blockchain & Energy: here are the most promising Apps - https://t.co/CjZEgVhFV9\\n',\n",
              " '\\n',\n",
              " '#IoT #startups #infosec #fintech #bt…\",\"null\",\"null\"\\n',\n",
              " '\"Mon Nov 27 17:40:36 EST 2017\",\"RT @business: Now people are searching for \"\"buy bitcoin\"\" more than how to \"\"buy gold\"\" https://t.co/qiMk2kgf4p https://t.co/iMG98uMmQj\",\"null\",\"null\"\\n',\n",
              " '\"Mon Nov 27 17:40:36 EST 2017\",\"RT @Ce_ne: @ZeusZissou @rogerkver Nope... Unless he apologise for calling Bitcoin with all other names but Bitcoin.\",\"null\",\"null\"\\n']"
            ]
          },
          "execution_count": 5,
          "metadata": {},
          "output_type": "execute_result"
        }
      ],
      "source": [
        "lines[0:10]"
      ]
    },
    {
      "cell_type": "code",
      "execution_count": 73,
      "metadata": {},
      "outputs": [
        {
          "data": {
            "text/plain": [
              "'\"Thu Nov 23 23:23:39 EST 2017\",\"RT @korinek_trades: Took a starter in $RCGR - merger rumors and solid SS for potential multi bagger runner 🤑 chart looks primed for a BREAK…\",\"null\",\"null\"\\n'"
            ]
          },
          "execution_count": 73,
          "metadata": {},
          "output_type": "execute_result"
        }
      ],
      "source": [
        "lines[883180]"
      ]
    },
    {
      "cell_type": "code",
      "execution_count": 66,
      "metadata": {},
      "outputs": [
        {
          "name": "stdout",
          "output_type": "stream",
          "text": [
            "\"Thu Nov 23 23:23:53 EST 2017\",\"RT @LevelNetwork: LevelNet is able to be integrated into any current cyber-protection solution. Visit https://t.co/8s5nfjFDeH for informati…\",\"null\",\"null\"\n",
            "\n",
            "\"Thu Nov 23 23:23:50 EST 2017\",\"RT @pierre_rochard: @paulvigna @btc_joe @prestonjbyrne @mikebelshe @jgarzik @nathanielpopper @laurashin The larger narrative is that the CE…\",\"null\",\"null\"\n",
            "\n",
            "\"Thu Nov 23 23:23:50 EST 2017\",\"RT @JonErlichman: Things that did not exist on Thanksgiving 10 years ago:\n",
            "\n",
            "\n",
            "\n",
            "Uber\n",
            "\n",
            "Airbnb\n",
            "\n",
            "Instagram\n",
            "\n",
            "Snapchat\n",
            "\n",
            "Bitcoin\n",
            "\n",
            "iPad\n",
            "\n"
          ]
        }
      ],
      "source": [
        "for line in lines[883140: 883150]:\n",
        "    print(line)"
      ]
    },
    {
      "cell_type": "markdown",
      "metadata": {
        "id": "4HAbsbvQiaxF"
      },
      "source": [
        "### Make a tweet\n"
      ]
    },
    {
      "cell_type": "code",
      "execution_count": null,
      "metadata": {
        "id": "y_lfZZC6J1Ak"
      },
      "outputs": [],
      "source": [
        "tweet = api.update_status(\"Hey there!! Courtesy: Tweepy\")"
      ]
    },
    {
      "cell_type": "markdown",
      "metadata": {
        "id": "IKjTKkYqirCO"
      },
      "source": [
        "### Get tweets from home timeline"
      ]
    },
    {
      "cell_type": "code",
      "execution_count": null,
      "metadata": {
        "colab": {
          "base_uri": "https://localhost:8080/"
        },
        "id": "gf83fNmbLm7O",
        "outputId": "0fa5b639-95a9-41e8-f3ef-46dd5312cec5"
      },
      "outputs": [],
      "source": [
        "# Get recent tweets from your home timeline\n",
        "tweets = api.home_timeline(count=5)\n",
        "for tweet in tweets:\n",
        "    print(tweet.text,'\\n')"
      ]
    },
    {
      "cell_type": "markdown",
      "metadata": {
        "id": "K9jsvMAsi01T"
      },
      "source": [
        "### Get your own tweets"
      ]
    },
    {
      "cell_type": "code",
      "execution_count": null,
      "metadata": {
        "colab": {
          "base_uri": "https://localhost:8080/"
        },
        "id": "KP2RvLJxLBpj",
        "outputId": "f472abf2-a48e-41bf-d5da-b6615cfefde1"
      },
      "outputs": [],
      "source": [
        "# Get Tweets (recent tweets from your account)\n",
        "tweets = api.user_timeline(count=2)\n",
        "for tweet in tweets:\n",
        "    print(tweet.text,'\\n')"
      ]
    },
    {
      "cell_type": "code",
      "execution_count": null,
      "metadata": {
        "colab": {
          "base_uri": "https://localhost:8080/"
        },
        "id": "W-o1zOpBMUgP",
        "outputId": "70c18baa-30c2-43bd-efe5-a84d433e761b"
      },
      "outputs": [],
      "source": [
        "# Tweet object has lots of data. Let's check out the Tweet JSON specs\n",
        "tweets = api.user_timeline(count=2)\n",
        "for tweet in tweets:\n",
        "    print(tweet.created_at)\n",
        "    print(tweet.id_str)\n",
        "    print(tweet.text,'\\n')"
      ]
    },
    {
      "cell_type": "markdown",
      "metadata": {
        "id": "ZJZbAx3hjCoY"
      },
      "source": [
        "### Delete a tweet"
      ]
    },
    {
      "cell_type": "code",
      "execution_count": null,
      "metadata": {
        "id": "nW8T07MWMvVL"
      },
      "outputs": [],
      "source": [
        "# Delete a Tweet\n",
        "to_be_deleted_tweet = api.update_status('Bad Tweet')"
      ]
    },
    {
      "cell_type": "code",
      "execution_count": null,
      "metadata": {
        "colab": {
          "base_uri": "https://localhost:8080/"
        },
        "id": "7qiYdLl-NTKr",
        "outputId": "04311639-2f60-44c9-dc72-b9399b3c2b16"
      },
      "outputs": [],
      "source": [
        "api.destroy_status(to_be_deleted_tweet.id_str)"
      ]
    },
    {
      "cell_type": "markdown",
      "metadata": {
        "id": "lF7VgsCljJA-"
      },
      "source": [
        "### Follow someone"
      ]
    },
    {
      "cell_type": "code",
      "execution_count": null,
      "metadata": {
        "colab": {
          "base_uri": "https://localhost:8080/"
        },
        "id": "t-ioeZc9B59d",
        "outputId": "4b5b76b0-4f9a-4f49-c629-7e8fb2ab9d1e"
      },
      "outputs": [],
      "source": [
        "# Follow\n",
        "api.create_friendship(screen_name='@YouTube')"
      ]
    },
    {
      "cell_type": "code",
      "execution_count": null,
      "metadata": {
        "colab": {
          "base_uri": "https://localhost:8080/"
        },
        "id": "aPcD9uy2NnAu",
        "outputId": "36fa4bdb-12a2-47ff-ec14-f896147c1f03"
      },
      "outputs": [],
      "source": [
        "# Unfollow\n",
        "api.destroy_friendship(screen_name='@YouTube')"
      ]
    },
    {
      "cell_type": "markdown",
      "metadata": {
        "id": "0oyrQNkKRzWQ"
      },
      "source": [
        "## Tweepy - Client Class (Twitter API v2.0)"
      ]
    },
    {
      "cell_type": "markdown",
      "metadata": {
        "id": "zSsoTq2NjPa2"
      },
      "source": [
        "### Authentication"
      ]
    },
    {
      "cell_type": "code",
      "execution_count": null,
      "metadata": {
        "colab": {
          "base_uri": "https://localhost:8080/"
        },
        "id": "fIh4fpXefhCH",
        "outputId": "c1502102-7539-43ad-dfdd-f1ec0b2e5d66"
      },
      "outputs": [],
      "source": [
        "# !pip install tweepy==4.9.0\n",
        "# import tweepy"
      ]
    },
    {
      "cell_type": "code",
      "execution_count": null,
      "metadata": {
        "id": "QZgz15VGRtjH"
      },
      "outputs": [],
      "source": [
        "# Authenticate with Twitter OAuth 2.0 Bearer Token (Application-only)\n",
        "client = tweepy.Client(bearer_token='AAAAAAAAAAAAAAAAAAAAAISqXwEAAAAAPSBG%2BW8YISXma2Wbc33al00Y2LY%3DUzB8OWxUDXKFS0AQ9ViLYsxPLhJvxD0eTUUYJEo4N8DwuIftum')"
      ]
    },
    {
      "cell_type": "markdown",
      "metadata": {
        "id": "uJcg5S9ujSLb"
      },
      "source": [
        "### Get recent public tweets on keywords"
      ]
    },
    {
      "cell_type": "code",
      "execution_count": null,
      "metadata": {
        "id": "H2vOTd4vRkHf"
      },
      "outputs": [],
      "source": [
        "# Pull tweets from twitter\n",
        "\n",
        "query = '#elonmusk -is:retweet lang:en'\n",
        "tweets = client.search_recent_tweets(query=query, tweet_fields=['context_annotations', 'created_at'], max_results=10)\n",
        "\n",
        "# Get tweets that contain the hashtag #TypeKeywordHere\n",
        "# -is:retweet means I don't want retweets\n",
        "# lang:en is asking for the tweets to be in english"
      ]
    },
    {
      "cell_type": "code",
      "execution_count": null,
      "metadata": {
        "colab": {
          "base_uri": "https://localhost:8080/"
        },
        "id": "49DQPigxVOhu",
        "outputId": "05a0963d-954f-4ad6-d91a-bbabd298acfc"
      },
      "outputs": [],
      "source": [
        "for tweet in tweets.data:\n",
        "    print('\\n**Tweet Text**\\n',tweet.text)"
      ]
    }
  ],
  "metadata": {
    "colab": {
      "collapsed_sections": [
        "rUdfYMvNR4Lk",
        "E4-arYLAiRXh",
        "4HAbsbvQiaxF",
        "IKjTKkYqirCO",
        "K9jsvMAsi01T",
        "ZJZbAx3hjCoY",
        "lF7VgsCljJA-",
        "zSsoTq2NjPa2",
        "uJcg5S9ujSLb"
      ],
      "provenance": []
    },
    "kernelspec": {
      "display_name": "Python 3",
      "name": "python3"
    },
    "language_info": {
      "codemirror_mode": {
        "name": "ipython",
        "version": 3
      },
      "file_extension": ".py",
      "mimetype": "text/x-python",
      "name": "python",
      "nbconvert_exporter": "python",
      "pygments_lexer": "ipython3",
      "version": "3.8.8"
    }
  },
  "nbformat": 4,
  "nbformat_minor": 0
}
