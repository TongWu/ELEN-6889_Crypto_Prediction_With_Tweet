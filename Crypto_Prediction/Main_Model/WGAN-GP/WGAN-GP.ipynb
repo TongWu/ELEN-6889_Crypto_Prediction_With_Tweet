{
  "nbformat": 4,
  "nbformat_minor": 0,
  "metadata": {
    "colab": {
      "provenance": []
    },
    "kernelspec": {
      "name": "python3",
      "display_name": "Python 3"
    },
    "language_info": {
      "name": "python"
    }
  },
  "cells": [
    {
      "cell_type": "code",
      "execution_count": 36,
      "metadata": {
        "id": "-yeRNt0LxYDH"
      },
      "outputs": [],
      "source": [
        "import numpy as np\n",
        "import pandas as pd\n",
        "import yfinance as yf\n",
        "import tensorflow as tf\n",
        "from tensorflow.keras.layers import Input, Dense, Reshape, Flatten, Conv1D, LeakyReLU, BatchNormalization, Conv1DTranspose, Activation, GRU, ELU, ReLU, Conv2D\n",
        "from tensorflow.keras.models import Model\n",
        "from tensorflow.keras.optimizers import Adam\n",
        "import datetime\n",
        "import matplotlib.pyplot as plt\n",
        "from tensorflow.keras import Sequential, regularizers"
      ]
    },
    {
      "cell_type": "code",
      "source": [
        "BATCH_SIZE = 64\n",
        "NOISE_DIM = 100\n",
        "EPOCHS = 100\n",
        "TRAIN_RATIO = 5  # 训练critic的次数\n",
        "CLIP_VALUE = 0.01  # 用于权重剪裁\n",
        "LEARNING_RATE = 0.0001"
      ],
      "metadata": {
        "id": "Te-jMEuQz794"
      },
      "execution_count": 11,
      "outputs": []
    },
    {
      "cell_type": "code",
      "source": [
        "# Fetch BTC trade raw data\n",
        "today = datetime.date.today()\n",
        "BTC_raw = yf.download('BTC-USD', start=today-datetime.timedelta(days=700), end=today)\n",
        "# BTC_raw.columns = ['date', 'open_price', 'high', 'low', 'close_price', 'adj close', 'volume']\n",
        "BTC_raw.head()"
      ],
      "metadata": {
        "colab": {
          "base_uri": "https://localhost:8080/",
          "height": 256
        },
        "id": "TlJZZGogxbtP",
        "outputId": "919ec9ac-747a-4831-e5c0-55002aac30b4"
      },
      "execution_count": 4,
      "outputs": [
        {
          "output_type": "stream",
          "name": "stdout",
          "text": [
            "\r[*********************100%***********************]  1 of 1 completed\n"
          ]
        },
        {
          "output_type": "execute_result",
          "data": {
            "text/plain": [
              "                    Open          High           Low         Close  \\\n",
              "Date                                                                 \n",
              "2021-05-28  38507.082031  38856.968750  34779.039062  35697.605469   \n",
              "2021-05-29  35684.156250  37234.500000  33693.929688  34616.066406   \n",
              "2021-05-30  34607.406250  36400.667969  33520.738281  35678.128906   \n",
              "2021-05-31  35658.593750  37468.250000  34241.945312  37332.855469   \n",
              "2021-06-01  37293.792969  37896.734375  35787.085938  36684.925781   \n",
              "\n",
              "               Adj Close       Volume  \n",
              "Date                                   \n",
              "2021-05-28  35697.605469  55200191952  \n",
              "2021-05-29  34616.066406  45231013335  \n",
              "2021-05-30  35678.128906  31646080921  \n",
              "2021-05-31  37332.855469  39009847639  \n",
              "2021-06-01  36684.925781  34639423297  "
            ],
            "text/html": [
              "\n",
              "  <div id=\"df-fe66212a-accc-4aab-936e-7b44bf21e592\">\n",
              "    <div class=\"colab-df-container\">\n",
              "      <div>\n",
              "<style scoped>\n",
              "    .dataframe tbody tr th:only-of-type {\n",
              "        vertical-align: middle;\n",
              "    }\n",
              "\n",
              "    .dataframe tbody tr th {\n",
              "        vertical-align: top;\n",
              "    }\n",
              "\n",
              "    .dataframe thead th {\n",
              "        text-align: right;\n",
              "    }\n",
              "</style>\n",
              "<table border=\"1\" class=\"dataframe\">\n",
              "  <thead>\n",
              "    <tr style=\"text-align: right;\">\n",
              "      <th></th>\n",
              "      <th>Open</th>\n",
              "      <th>High</th>\n",
              "      <th>Low</th>\n",
              "      <th>Close</th>\n",
              "      <th>Adj Close</th>\n",
              "      <th>Volume</th>\n",
              "    </tr>\n",
              "    <tr>\n",
              "      <th>Date</th>\n",
              "      <th></th>\n",
              "      <th></th>\n",
              "      <th></th>\n",
              "      <th></th>\n",
              "      <th></th>\n",
              "      <th></th>\n",
              "    </tr>\n",
              "  </thead>\n",
              "  <tbody>\n",
              "    <tr>\n",
              "      <th>2021-05-28</th>\n",
              "      <td>38507.082031</td>\n",
              "      <td>38856.968750</td>\n",
              "      <td>34779.039062</td>\n",
              "      <td>35697.605469</td>\n",
              "      <td>35697.605469</td>\n",
              "      <td>55200191952</td>\n",
              "    </tr>\n",
              "    <tr>\n",
              "      <th>2021-05-29</th>\n",
              "      <td>35684.156250</td>\n",
              "      <td>37234.500000</td>\n",
              "      <td>33693.929688</td>\n",
              "      <td>34616.066406</td>\n",
              "      <td>34616.066406</td>\n",
              "      <td>45231013335</td>\n",
              "    </tr>\n",
              "    <tr>\n",
              "      <th>2021-05-30</th>\n",
              "      <td>34607.406250</td>\n",
              "      <td>36400.667969</td>\n",
              "      <td>33520.738281</td>\n",
              "      <td>35678.128906</td>\n",
              "      <td>35678.128906</td>\n",
              "      <td>31646080921</td>\n",
              "    </tr>\n",
              "    <tr>\n",
              "      <th>2021-05-31</th>\n",
              "      <td>35658.593750</td>\n",
              "      <td>37468.250000</td>\n",
              "      <td>34241.945312</td>\n",
              "      <td>37332.855469</td>\n",
              "      <td>37332.855469</td>\n",
              "      <td>39009847639</td>\n",
              "    </tr>\n",
              "    <tr>\n",
              "      <th>2021-06-01</th>\n",
              "      <td>37293.792969</td>\n",
              "      <td>37896.734375</td>\n",
              "      <td>35787.085938</td>\n",
              "      <td>36684.925781</td>\n",
              "      <td>36684.925781</td>\n",
              "      <td>34639423297</td>\n",
              "    </tr>\n",
              "  </tbody>\n",
              "</table>\n",
              "</div>\n",
              "      <button class=\"colab-df-convert\" onclick=\"convertToInteractive('df-fe66212a-accc-4aab-936e-7b44bf21e592')\"\n",
              "              title=\"Convert this dataframe to an interactive table.\"\n",
              "              style=\"display:none;\">\n",
              "        \n",
              "  <svg xmlns=\"http://www.w3.org/2000/svg\" height=\"24px\"viewBox=\"0 0 24 24\"\n",
              "       width=\"24px\">\n",
              "    <path d=\"M0 0h24v24H0V0z\" fill=\"none\"/>\n",
              "    <path d=\"M18.56 5.44l.94 2.06.94-2.06 2.06-.94-2.06-.94-.94-2.06-.94 2.06-2.06.94zm-11 1L8.5 8.5l.94-2.06 2.06-.94-2.06-.94L8.5 2.5l-.94 2.06-2.06.94zm10 10l.94 2.06.94-2.06 2.06-.94-2.06-.94-.94-2.06-.94 2.06-2.06.94z\"/><path d=\"M17.41 7.96l-1.37-1.37c-.4-.4-.92-.59-1.43-.59-.52 0-1.04.2-1.43.59L10.3 9.45l-7.72 7.72c-.78.78-.78 2.05 0 2.83L4 21.41c.39.39.9.59 1.41.59.51 0 1.02-.2 1.41-.59l7.78-7.78 2.81-2.81c.8-.78.8-2.07 0-2.86zM5.41 20L4 18.59l7.72-7.72 1.47 1.35L5.41 20z\"/>\n",
              "  </svg>\n",
              "      </button>\n",
              "      \n",
              "  <style>\n",
              "    .colab-df-container {\n",
              "      display:flex;\n",
              "      flex-wrap:wrap;\n",
              "      gap: 12px;\n",
              "    }\n",
              "\n",
              "    .colab-df-convert {\n",
              "      background-color: #E8F0FE;\n",
              "      border: none;\n",
              "      border-radius: 50%;\n",
              "      cursor: pointer;\n",
              "      display: none;\n",
              "      fill: #1967D2;\n",
              "      height: 32px;\n",
              "      padding: 0 0 0 0;\n",
              "      width: 32px;\n",
              "    }\n",
              "\n",
              "    .colab-df-convert:hover {\n",
              "      background-color: #E2EBFA;\n",
              "      box-shadow: 0px 1px 2px rgba(60, 64, 67, 0.3), 0px 1px 3px 1px rgba(60, 64, 67, 0.15);\n",
              "      fill: #174EA6;\n",
              "    }\n",
              "\n",
              "    [theme=dark] .colab-df-convert {\n",
              "      background-color: #3B4455;\n",
              "      fill: #D2E3FC;\n",
              "    }\n",
              "\n",
              "    [theme=dark] .colab-df-convert:hover {\n",
              "      background-color: #434B5C;\n",
              "      box-shadow: 0px 1px 3px 1px rgba(0, 0, 0, 0.15);\n",
              "      filter: drop-shadow(0px 1px 2px rgba(0, 0, 0, 0.3));\n",
              "      fill: #FFFFFF;\n",
              "    }\n",
              "  </style>\n",
              "\n",
              "      <script>\n",
              "        const buttonEl =\n",
              "          document.querySelector('#df-fe66212a-accc-4aab-936e-7b44bf21e592 button.colab-df-convert');\n",
              "        buttonEl.style.display =\n",
              "          google.colab.kernel.accessAllowed ? 'block' : 'none';\n",
              "\n",
              "        async function convertToInteractive(key) {\n",
              "          const element = document.querySelector('#df-fe66212a-accc-4aab-936e-7b44bf21e592');\n",
              "          const dataTable =\n",
              "            await google.colab.kernel.invokeFunction('convertToInteractive',\n",
              "                                                     [key], {});\n",
              "          if (!dataTable) return;\n",
              "\n",
              "          const docLinkHtml = 'Like what you see? Visit the ' +\n",
              "            '<a target=\"_blank\" href=https://colab.research.google.com/notebooks/data_table.ipynb>data table notebook</a>'\n",
              "            + ' to learn more about interactive tables.';\n",
              "          element.innerHTML = '';\n",
              "          dataTable['output_type'] = 'display_data';\n",
              "          await google.colab.output.renderOutput(dataTable, element);\n",
              "          const docLink = document.createElement('div');\n",
              "          docLink.innerHTML = docLinkHtml;\n",
              "          element.appendChild(docLink);\n",
              "        }\n",
              "      </script>\n",
              "    </div>\n",
              "  </div>\n",
              "  "
            ]
          },
          "metadata": {},
          "execution_count": 4
        }
      ]
    },
    {
      "cell_type": "code",
      "source": [
        "# Split the raw data into parts\n",
        "BTC_basic = BTC_raw[['Adj Close', 'Open']]\n",
        "BTC_quant = BTC_raw[['Open', 'High', 'Low', 'Close', 'Volume']].values\n",
        "BTC_quant"
      ],
      "metadata": {
        "colab": {
          "base_uri": "https://localhost:8080/"
        },
        "id": "T2tmxeMlxjsy",
        "outputId": "42c91b88-7471-4dfa-90e8-237ebb632f9b"
      },
      "execution_count": 16,
      "outputs": [
        {
          "output_type": "execute_result",
          "data": {
            "text/plain": [
              "array([[3.85070820e+04, 3.88569688e+04, 3.47790391e+04, 3.56976055e+04,\n",
              "        5.52001920e+10],\n",
              "       [3.56841562e+04, 3.72345000e+04, 3.36939297e+04, 3.46160664e+04,\n",
              "        4.52310133e+10],\n",
              "       [3.46074062e+04, 3.64006680e+04, 3.35207383e+04, 3.56781289e+04,\n",
              "        3.16460809e+10],\n",
              "       ...,\n",
              "       [2.75917305e+04, 2.79799824e+04, 2.70708496e+04, 2.75253398e+04,\n",
              "        1.77032883e+10],\n",
              "       [2.75148730e+04, 2.83710781e+04, 2.72079316e+04, 2.83075977e+04,\n",
              "        1.77333731e+10],\n",
              "       [2.83000586e+04, 2.99958379e+04, 2.73245488e+04, 2.84227012e+04,\n",
              "        3.18542420e+10]])"
            ]
          },
          "metadata": {},
          "execution_count": 16
        }
      ]
    },
    {
      "cell_type": "code",
      "source": [
        "# WGAN-GP models\n",
        "def build_generator(input_dim):\n",
        "    input_layer = Input(shape=(input_dim,))\n",
        "    x = Dense(128)(input_layer)\n",
        "    x = LeakyReLU(alpha=0.2)(x)\n",
        "    x = BatchNormalization(momentum=0.8)(x)\n",
        "    x = Dense(256)(x)\n",
        "    x = LeakyReLU(alpha=0.2)(x)\n",
        "    x = BatchNormalization(momentum=0.8)(x)\n",
        "    x = Dense(512)(x)\n",
        "    x = LeakyReLU(alpha=0.2)(x)\n",
        "    x = BatchNormalization(momentum=0.8)(x)\n",
        "    x = Dense(input_dim, activation='tanh')(x)\n",
        "    model = Model(input_layer, x)\n",
        "    return model\n",
        "\n",
        "def build_critic():\n",
        "    model_input = Input(shape=(5,))\n",
        "    model = Dense(320)(model_input)\n",
        "    model = Reshape((1, 5, 64))(model)\n",
        "    model = Conv2D(32, kernel_size=(1, 3), padding='same')(model)\n",
        "    model = LeakyReLU(alpha=0.2)(model)\n",
        "    model = Conv2D(64, kernel_size=(1, 3), padding='same')(model)\n",
        "    model = LeakyReLU(alpha=0.2)(model)\n",
        "    model = Flatten()(model)\n",
        "    model_output = Dense(1)(model)\n",
        "    return Model(model_input, model_output)"
      ],
      "metadata": {
        "id": "SLyr6hkaxqIk"
      },
      "execution_count": 34,
      "outputs": []
    },
    {
      "cell_type": "code",
      "source": [
        "generator = build_generator(NOISE_DIM)\n",
        "critic = build_critic()\n",
        "\n",
        "critic_optimizer = Adam(learning_rate=LEARNING_RATE, beta_1=0.5, beta_2=0.9)\n",
        "critic.compile(loss='mse', optimizer=critic_optimizer)"
      ],
      "metadata": {
        "id": "8AyyLGqQyaOw"
      },
      "execution_count": 37,
      "outputs": []
    },
    {
      "cell_type": "code",
      "source": [
        "def wasserstein_loss(y_true, y_pred):\n",
        "    return tf.reduce_mean(y_true * y_pred)\n",
        "\n",
        "def gradient_penalty_loss(y_true, y_pred, interpolated_samples):\n",
        "    gradients = tf.gradients(y_pred, interpolated_samples)[0]\n",
        "    gradients_sqr = tf.square(gradients)\n",
        "    gradients_sqr_sum = tf.reduce_sum(gradients_sqr, axis=np.arange(1, len(gradients_sqr.shape)))\n",
        "    gradient_l2_norm = tf.sqrt(gradients_sqr_sum)\n",
        "    gradient_penalty = tf.reduce_mean((gradient_l2_norm - 1.)**2)\n",
        "    return gradient_penalty\n",
        "\n",
        "def train_wgan_gp(stock_data, generator, critic, batch_size, noise_dim, epochs, train_ratio, clip_value, learning_rate):\n",
        "    num_samples = stock_data.shape[0]\n",
        "\n",
        "    real_stock_data = Input(shape=(stock_data.shape[1],))\n",
        "    noise_input = Input(shape=(noise_dim,))\n",
        "    \n",
        "    generated_stock_data = generator(noise_input)\n",
        "\n",
        "    real_stock_score = critic(real_stock_data)\n",
        "    generated_stock_score = critic(generated_stock_data)\n",
        "\n",
        "    alpha = tf.random.uniform(shape=[batch_size, 1], minval=0., maxval=1.)\n",
        "    interpolated = (alpha * real_stock_data) + ((1 - alpha) * generated_stock_data)\n",
        "    gp = gradient_penalty_loss(real_stock_data, generated_stock_score, interpolated)\n",
        "\n",
        "    wasserstein_distance = real_stock_score - generated_stock_score\n",
        "    critic_loss = wasserstein_loss(real_stock_data, generated_stock_score) + 10 * gp\n",
        "\n",
        "    critic_optimizer = Adam(lr=learning_rate, beta_1=0.5, beta_2=0.9)\n",
        "    critic_model = Model(inputs=[real_stock_data, noise_input], outputs=[wasserstein_distance, gp])\n",
        "    #critic_model.compile(loss=[wasserstein_loss, gradient_penalty_loss], optimizer=critic_optimizer, loss_weights=[1, 10])\n",
        "    critic.compile(optimizer=Adam(lr=learning_rate), loss=wasserstein_loss, metrics=['accuracy'])\n",
        "\n",
        "    generator_score = critic(generated_stock_data)\n",
        "    generator_model = Model(inputs=noise_input, outputs=generator_score)\n",
        "    generator_model.compile(loss=wasserstein_loss, optimizer=critic_optimizer)\n",
        "\n",
        "    # 训练循环\n",
        "    for epoch in range(epochs):\n",
        "        print(\"Epoch\", epoch)\n",
        "        for i in range(0, num_samples, batch_size):\n",
        "            for _ in range(train_ratio):\n",
        "                real_stock_batch = stock_data[np.random.randint(0, num_samples, size=batch_size)]\n",
        "                noise = np.random.normal(0, 1, size=(batch_size, noise_dim))\n",
        "                critic_loss = critic.train_on_batch([real_stock_batch, generator.predict(noise)], [-np.ones((batch_size, 1)), np.ones((batch_size, 1))])\n",
        "                for layer in critic.layers:\n",
        "                    weights = layer.get_weights()\n",
        "                    weights = [np.clip(w, -clip_value, clip_value) for w in weights]\n",
        "                    layer.set_weights(weights)\n",
        "\n",
        "            noise = np.random.normal(0, 1, size=(batch_size, 5))\n",
        "            generated_data = generator.predict(noise)\n",
        "            generator_loss = generator_model.train_on_batch(generated_data, np.ones((batch_size, 1)))\n",
        "\n",
        "        print(\"Critic Loss:\", critic_loss)\n",
        "        print(\"Generator Loss:\", generator_loss)\n",
        "\n",
        "        if epoch % 10 == 0:\n",
        "            print(\"Generating sample data...\")\n",
        "            generated_data = generator.predict(np.random.normal(0, 1, size=(10, noise_dim)))\n",
        "            print(\"Sample Data:\", generated_data)\n",
        "\n",
        "    return generator\n"
      ],
      "metadata": {
        "id": "wbI_h-jG0ESH"
      },
      "execution_count": 47,
      "outputs": []
    },
    {
      "cell_type": "code",
      "source": [
        "trained_generator = train_wgan_gp(BTC_quant, generator, critic, BATCH_SIZE, NOISE_DIM, EPOCHS, TRAIN_RATIO, CLIP_VALUE, LEARNING_RATE)"
      ],
      "metadata": {
        "colab": {
          "base_uri": "https://localhost:8080/",
          "height": 456
        },
        "id": "k0mUw_Bq05fC",
        "outputId": "0f9d3d16-61d4-47bf-fad8-6171eba06332"
      },
      "execution_count": 48,
      "outputs": [
        {
          "output_type": "error",
          "ename": "ValueError",
          "evalue": "ignored",
          "traceback": [
            "\u001b[0;31m---------------------------------------------------------------------------\u001b[0m",
            "\u001b[0;31mValueError\u001b[0m                                Traceback (most recent call last)",
            "\u001b[0;32m<ipython-input-48-f36daf0a4d01>\u001b[0m in \u001b[0;36m<cell line: 1>\u001b[0;34m()\u001b[0m\n\u001b[0;32m----> 1\u001b[0;31m \u001b[0mtrained_generator\u001b[0m \u001b[0;34m=\u001b[0m \u001b[0mtrain_wgan_gp\u001b[0m\u001b[0;34m(\u001b[0m\u001b[0mBTC_quant\u001b[0m\u001b[0;34m,\u001b[0m \u001b[0mgenerator\u001b[0m\u001b[0;34m,\u001b[0m \u001b[0mcritic\u001b[0m\u001b[0;34m,\u001b[0m \u001b[0mBATCH_SIZE\u001b[0m\u001b[0;34m,\u001b[0m \u001b[0mNOISE_DIM\u001b[0m\u001b[0;34m,\u001b[0m \u001b[0mEPOCHS\u001b[0m\u001b[0;34m,\u001b[0m \u001b[0mTRAIN_RATIO\u001b[0m\u001b[0;34m,\u001b[0m \u001b[0mCLIP_VALUE\u001b[0m\u001b[0;34m,\u001b[0m \u001b[0mLEARNING_RATE\u001b[0m\u001b[0;34m)\u001b[0m\u001b[0;34m\u001b[0m\u001b[0;34m\u001b[0m\u001b[0m\n\u001b[0m",
            "\u001b[0;32m<ipython-input-47-96908c194142>\u001b[0m in \u001b[0;36mtrain_wgan_gp\u001b[0;34m(stock_data, generator, critic, batch_size, noise_dim, epochs, train_ratio, clip_value, learning_rate)\u001b[0m\n\u001b[1;32m     19\u001b[0m \u001b[0;34m\u001b[0m\u001b[0m\n\u001b[1;32m     20\u001b[0m     \u001b[0mreal_stock_score\u001b[0m \u001b[0;34m=\u001b[0m \u001b[0mcritic\u001b[0m\u001b[0;34m(\u001b[0m\u001b[0mreal_stock_data\u001b[0m\u001b[0;34m)\u001b[0m\u001b[0;34m\u001b[0m\u001b[0;34m\u001b[0m\u001b[0m\n\u001b[0;32m---> 21\u001b[0;31m     \u001b[0mgenerated_stock_score\u001b[0m \u001b[0;34m=\u001b[0m \u001b[0mcritic\u001b[0m\u001b[0;34m(\u001b[0m\u001b[0mgenerated_stock_data\u001b[0m\u001b[0;34m)\u001b[0m\u001b[0;34m\u001b[0m\u001b[0;34m\u001b[0m\u001b[0m\n\u001b[0m\u001b[1;32m     22\u001b[0m \u001b[0;34m\u001b[0m\u001b[0m\n\u001b[1;32m     23\u001b[0m     \u001b[0malpha\u001b[0m \u001b[0;34m=\u001b[0m \u001b[0mtf\u001b[0m\u001b[0;34m.\u001b[0m\u001b[0mrandom\u001b[0m\u001b[0;34m.\u001b[0m\u001b[0muniform\u001b[0m\u001b[0;34m(\u001b[0m\u001b[0mshape\u001b[0m\u001b[0;34m=\u001b[0m\u001b[0;34m[\u001b[0m\u001b[0mbatch_size\u001b[0m\u001b[0;34m,\u001b[0m \u001b[0;36m1\u001b[0m\u001b[0;34m]\u001b[0m\u001b[0;34m,\u001b[0m \u001b[0mminval\u001b[0m\u001b[0;34m=\u001b[0m\u001b[0;36m0.\u001b[0m\u001b[0;34m,\u001b[0m \u001b[0mmaxval\u001b[0m\u001b[0;34m=\u001b[0m\u001b[0;36m1.\u001b[0m\u001b[0;34m)\u001b[0m\u001b[0;34m\u001b[0m\u001b[0;34m\u001b[0m\u001b[0m\n",
            "\u001b[0;32m/usr/local/lib/python3.10/dist-packages/keras/utils/traceback_utils.py\u001b[0m in \u001b[0;36merror_handler\u001b[0;34m(*args, **kwargs)\u001b[0m\n\u001b[1;32m     68\u001b[0m             \u001b[0;31m# To get the full stack trace, call:\u001b[0m\u001b[0;34m\u001b[0m\u001b[0;34m\u001b[0m\u001b[0m\n\u001b[1;32m     69\u001b[0m             \u001b[0;31m# `tf.debugging.disable_traceback_filtering()`\u001b[0m\u001b[0;34m\u001b[0m\u001b[0;34m\u001b[0m\u001b[0m\n\u001b[0;32m---> 70\u001b[0;31m             \u001b[0;32mraise\u001b[0m \u001b[0me\u001b[0m\u001b[0;34m.\u001b[0m\u001b[0mwith_traceback\u001b[0m\u001b[0;34m(\u001b[0m\u001b[0mfiltered_tb\u001b[0m\u001b[0;34m)\u001b[0m \u001b[0;32mfrom\u001b[0m \u001b[0;32mNone\u001b[0m\u001b[0;34m\u001b[0m\u001b[0;34m\u001b[0m\u001b[0m\n\u001b[0m\u001b[1;32m     71\u001b[0m         \u001b[0;32mfinally\u001b[0m\u001b[0;34m:\u001b[0m\u001b[0;34m\u001b[0m\u001b[0;34m\u001b[0m\u001b[0m\n\u001b[1;32m     72\u001b[0m             \u001b[0;32mdel\u001b[0m \u001b[0mfiltered_tb\u001b[0m\u001b[0;34m\u001b[0m\u001b[0;34m\u001b[0m\u001b[0m\n",
            "\u001b[0;32m/usr/local/lib/python3.10/dist-packages/keras/engine/input_spec.py\u001b[0m in \u001b[0;36massert_input_compatibility\u001b[0;34m(input_spec, inputs, layer_name)\u001b[0m\n\u001b[1;32m    278\u001b[0m                     \u001b[0;32mNone\u001b[0m\u001b[0;34m,\u001b[0m\u001b[0;34m\u001b[0m\u001b[0;34m\u001b[0m\u001b[0m\n\u001b[1;32m    279\u001b[0m                 }:\n\u001b[0;32m--> 280\u001b[0;31m                     raise ValueError(\n\u001b[0m\u001b[1;32m    281\u001b[0m                         \u001b[0;34mf'Input {input_index} of layer \"{layer_name}\" is '\u001b[0m\u001b[0;34m\u001b[0m\u001b[0;34m\u001b[0m\u001b[0m\n\u001b[1;32m    282\u001b[0m                         \u001b[0;34mf\"incompatible with the layer: expected axis {axis} \"\u001b[0m\u001b[0;34m\u001b[0m\u001b[0;34m\u001b[0m\u001b[0m\n",
            "\u001b[0;31mValueError\u001b[0m: Exception encountered when calling layer \"model_17\" (type Functional).\n\nInput 0 of layer \"dense_65\" is incompatible with the layer: expected axis -1 of input shape to have value 5, but received input with shape (None, 100)\n\nCall arguments received by layer \"model_17\" (type Functional):\n  • inputs=tf.Tensor(shape=(None, 100), dtype=float32)\n  • training=None\n  • mask=None"
          ]
        }
      ]
    }
  ]
}